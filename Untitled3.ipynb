{
  "nbformat": 4,
  "nbformat_minor": 0,
  "metadata": {
    "colab": {
      "name": "Untitled3.ipynb",
      "provenance": [],
      "collapsed_sections": [],
      "authorship_tag": "ABX9TyOqgOgQj9eDjcM6TBPbs+G6",
      "include_colab_link": true
    },
    "kernelspec": {
      "name": "python3",
      "display_name": "Python 3"
    },
    "language_info": {
      "name": "python"
    }
  },
  "cells": [
    {
      "cell_type": "markdown",
      "metadata": {
        "id": "view-in-github",
        "colab_type": "text"
      },
      "source": [
        "<a href=\"https://colab.research.google.com/github/pournimagithub/Pournima/blob/main/Untitled3.ipynb\" target=\"_parent\"><img src=\"https://colab.research.google.com/assets/colab-badge.svg\" alt=\"Open In Colab\"/></a>"
      ]
    },
    {
      "cell_type": "code",
      "source": [
        "from scipy.special import cbrt\n",
        "cb = cbrt([27, 64])\n",
        "print(cb)"
      ],
      "metadata": {
        "colab": {
          "base_uri": "https://localhost:8080/"
        },
        "id": "zVO6nOHoN4Pu",
        "outputId": "0f22808b-99f7-46fb-c3ef-8763ed80cfae"
      },
      "execution_count": 2,
      "outputs": [
        {
          "output_type": "stream",
          "name": "stdout",
          "text": [
            "[3. 4.]\n"
          ]
        }
      ]
    },
    {
      "cell_type": "code",
      "source": [
        "from scipy.special import exp10\n",
        "exp = exp10([1,10])\n",
        "print(exp)\n"
      ],
      "metadata": {
        "colab": {
          "base_uri": "https://localhost:8080/"
        },
        "id": "WpuB4A6GN_3t",
        "outputId": "0e6ca992-4860-4ed4-f409-ec47657d230e"
      },
      "execution_count": 3,
      "outputs": [
        {
          "output_type": "stream",
          "name": "stdout",
          "text": [
            "[1.e+01 1.e+10]\n"
          ]
        }
      ]
    },
    {
      "cell_type": "code",
      "source": [
        "from scipy.special import comb\n",
        "com = comb(5, 2, exact = False, repetition=True)\n",
        "print(com)"
      ],
      "metadata": {
        "colab": {
          "base_uri": "https://localhost:8080/"
        },
        "id": "iKuv3NdgOKUo",
        "outputId": "bb52dd2b-3669-4c72-8a8f-4c93dd9e2849"
      },
      "execution_count": 4,
      "outputs": [
        {
          "output_type": "stream",
          "name": "stdout",
          "text": [
            "15.0\n"
          ]
        }
      ]
    },
    {
      "cell_type": "code",
      "source": [
        "from scipy.special import perm\n",
        "per = perm(5, 2, exact = True)\n",
        "print(per)\n"
      ],
      "metadata": {
        "colab": {
          "base_uri": "https://localhost:8080/"
        },
        "id": "3hQFSLGMOQuM",
        "outputId": "36a16a0b-0c89-4e1b-befc-0ffe84beeda6"
      },
      "execution_count": 5,
      "outputs": [
        {
          "output_type": "stream",
          "name": "stdout",
          "text": [
            "20\n"
          ]
        }
      ]
    },
    {
      "cell_type": "code",
      "source": [
        "from scipy import linalg\n",
        "import numpy as np\n",
        "two_d_array = np.array([ [4,5], [3,2] ])\n",
        "linalg.det( two_d_array )"
      ],
      "metadata": {
        "colab": {
          "base_uri": "https://localhost:8080/"
        },
        "id": "QOoTU30mOXis",
        "outputId": "95f6cbd0-cc51-4748-8265-589ddaaeacb5"
      },
      "execution_count": 6,
      "outputs": [
        {
          "output_type": "execute_result",
          "data": {
            "text/plain": [
              "-7.0"
            ]
          },
          "metadata": {},
          "execution_count": 6
        }
      ]
    },
    {
      "cell_type": "code",
      "source": [
        "from scipy import linalg\n",
        "import numpy as np\n",
        "two_d_array = np.array([ [4,5], [3,2] ])\n",
        "linalg.inv( two_d_array )"
      ],
      "metadata": {
        "colab": {
          "base_uri": "https://localhost:8080/"
        },
        "id": "tborZWnJOgF8",
        "outputId": "d19e1a4e-3df7-45b7-9e1b-1df5b4a016aa"
      },
      "execution_count": 7,
      "outputs": [
        {
          "output_type": "execute_result",
          "data": {
            "text/plain": [
              "array([[-0.28571429,  0.71428571],\n",
              "       [ 0.42857143, -0.57142857]])"
            ]
          },
          "metadata": {},
          "execution_count": 7
        }
      ]
    },
    {
      "cell_type": "code",
      "source": [
        "from scipy import linalg\n",
        "import numpy as np\n",
        "arr = np.array([[5,4],[6,3]])\n",
        "eg_val, eg_vect = linalg.eig(arr)\n",
        "print(eg_val)\n",
        "print(eg_vect)\n",
        "\n"
      ],
      "metadata": {
        "colab": {
          "base_uri": "https://localhost:8080/"
        },
        "id": "X_LtpXYyOoZl",
        "outputId": "cbc845a2-b1d9-4ec3-eed6-25347a0e0c63"
      },
      "execution_count": 8,
      "outputs": [
        {
          "output_type": "stream",
          "name": "stdout",
          "text": [
            "[ 9.+0.j -1.+0.j]\n",
            "[[ 0.70710678 -0.5547002 ]\n",
            " [ 0.70710678  0.83205029]]\n"
          ]
        }
      ]
    },
    {
      "cell_type": "code",
      "source": [
        "from scipy import integrate\n",
        "a=lambda y,x:x*y**2\n",
        "b=lambda x:1\n",
        "c=lambda x:-1\n",
        "integrate.dblquad(a,0,2,b,c)"
      ],
      "metadata": {
        "colab": {
          "base_uri": "https://localhost:8080/"
        },
        "id": "i0UPMhr7PfCt",
        "outputId": "d0fdeb12-22a2-470a-fe2c-ed4f87403f62"
      },
      "execution_count": 12,
      "outputs": [
        {
          "output_type": "execute_result",
          "data": {
            "text/plain": [
              "(-1.3333333333333335, 1.4802973661668755e-14)"
            ]
          },
          "metadata": {},
          "execution_count": 12
        }
      ]
    }
  ]
}